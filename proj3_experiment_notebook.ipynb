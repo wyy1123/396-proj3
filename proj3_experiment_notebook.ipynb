{
 "cells": [
  {
   "cell_type": "code",
   "execution_count": 4,
   "metadata": {},
   "outputs": [],
   "source": [
    "import numpy as np\n",
    "import pandas as pd\n",
    "import matplotlib.pyplot as plt\n",
    "from project3 import Generalized_Second_Price_Auction, exponential_weight_full_info, follow_the_perturbed_leader_full_info"
   ]
  },
  {
   "cell_type": "code",
   "execution_count": 5,
   "metadata": {},
   "outputs": [],
   "source": [
    "#creating payoff matrix:\n",
    "bid_space = [0,5,10,15,20,25,30,35,40,45,50,55,60,65,70,75,80,85,90,95]\n",
    "payoff_table = []\n",
    "algo = \"EW\"\n",
    "\n",
    "    "
   ]
  },
  {
   "cell_type": "code",
   "execution_count": 6,
   "metadata": {},
   "outputs": [],
   "source": [
    "def choose_action(algo,payoffs,epsilon,h):\n",
    "    cur_action_idx = 0\n",
    "    actions =[]\n",
    "    total_payoff = 0\n",
    "    n=payoffs.shape[1]\n",
    "    k=payoffs.shape[0]\n",
    "    total_payoff = 0\n",
    "    if algo ==\"EW\":\n",
    "        cur_action_idx,actions,total_payoff= exponential_weight_full_info(payoffs, epsilon, h)\n",
    "    if algo ==\"FTPL\":\n",
    "        cur_action_idx,actions,total_payoff= follow_the_perturbed_leader_full_info(payoffs, epsilon, h)\n",
    "        \n",
    "    return cur_action_idx\n",
    "    \n",
    "    \n",
    "    \n",
    "    "
   ]
  },
  {
   "cell_type": "code",
   "execution_count": 7,
   "metadata": {},
   "outputs": [],
   "source": [
    "class player():\n",
    "    def __init__(self,algo,epsilon,h,action_space):\n",
    "        self.algo = algo\n",
    "        self.epsilon = epsilon\n",
    "        self.value = h\n",
    "        self.action_space = action_space\n",
    "        self.payoffs = []\n",
    "        if algo ==\"EW\":\n",
    "            for i in range(0,len(action_space)):\n",
    "                self.payoffs.append([0])\n",
    "            #?: for ew is it initialized to be 0?\n",
    "        if algo ==\"FTPL\":\n",
    "            for i in range(0,len(action_space)):\n",
    "                self.payoffs.append([h * np.random.exponential(epsilon)])\n",
    "            #?: what are the initial values for ftpl?\n",
    "     \n",
    "    def generate_round_payoff(self,bid, bids):\n",
    "        round_payoff = np.zeros(20)\n",
    "        for i in range(len(bid_space)):\n",
    "            if self.action_space[i] < np.amax(np.asarray(bids)):\n",
    "                round_payoff[i] = 0\n",
    "            if self.action_space[i] == np.amax(np.asarray(bids)):\n",
    "                round_payoff[i] = 0.5*(self.value-bid)\n",
    "            if self.action_space[i] > np.amax(np.asarray(bids)):\n",
    "                round_payoff[i] = self.value-bid  \n",
    "\n",
    "    def update_payoff(self,round_payoff):\n",
    "        for i in range(payoffs.shape[0]):\n",
    "            self.payoffs[i].append(round_payoff[i])       \n",
    "    \n",
    "    def choose_action(self):\n",
    "        cur_action_idx = 0\n",
    "        actions =[]\n",
    "        total_payoff = 0\n",
    "        n=len(self.payoffs[0])\n",
    "        k=len(self.payoffs)\n",
    "        total_payoff = 0\n",
    "        if algo ==\"EW\":\n",
    "            cur_action_idx,actions,total_payoff = exponential_weight_full_info(np.asarray(self.payoffs), self.epsilon, self.value)\n",
    "        if algo ==\"FTPL\":\n",
    "            cur_action_idx, actions,total_payoff= follow_the_perturbed_leader_full_info(np.asarray(self.payoffs), self.epsilon, self.value)\n",
    "        \n",
    "        return cur_action_idx, total_payoff\n",
    "    \n",
    "    \n",
    "    "
   ]
  },
  {
   "cell_type": "code",
   "execution_count": 8,
   "metadata": {},
   "outputs": [],
   "source": [
    "#1. initialize the player classes\n",
    "#for each player:\n",
    "#  2. in each round, choose action\n",
    "#  then record total payoff \n",
    "#  update the per round payoff based on all players' bids\n",
    "#  \n",
    "\n",
    "#initializing the player here:\n",
    "EW_player1 = player(\"EW\",0.5,20,bid_space)\n",
    "EW_player2 = player(\"EW\",0.5,40,bid_space)\n",
    "EW_player3 = player(\"EW\",0.5,60,bid_space)\n",
    "EW_player4 = player(\"EW\",0.5,80,bid_space)\n",
    "EW_player5 = player(\"EW\",0.5,100,bid_space)\n",
    "FTPL_player1 = player(\"FTPL\",0.5,20,bid_space)\n",
    "FTPL_player2 = player(\"FTPL\",0.5,40,bid_space)\n",
    "FTPL_player3 = player(\"FTPL\",0.5,60,bid_space)\n",
    "FTPL_player4 = player(\"FTPL\",0.5,80,bid_space)\n",
    "FTPL_player5 = player(\"FTPL\",0.5,100,bid_space)\n",
    "\n"
   ]
  },
  {
   "cell_type": "code",
   "execution_count": 9,
   "metadata": {},
   "outputs": [
    {
     "ename": "UnboundLocalError",
     "evalue": "local variable 'select_action' referenced before assignment",
     "output_type": "error",
     "traceback": [
      "\u001b[0;31m---------------------------------------------------------------------------\u001b[0m",
      "\u001b[0;31mUnboundLocalError\u001b[0m                         Traceback (most recent call last)",
      "\u001b[0;32m<ipython-input-9-c0d0e38e97b3>\u001b[0m in \u001b[0;36m<module>\u001b[0;34m\u001b[0m\n\u001b[1;32m      5\u001b[0m     \u001b[0mbids\u001b[0m \u001b[0;34m=\u001b[0m \u001b[0;34m[\u001b[0m\u001b[0;34m]\u001b[0m\u001b[0;34m\u001b[0m\u001b[0;34m\u001b[0m\u001b[0m\n\u001b[1;32m      6\u001b[0m \u001b[0;34m\u001b[0m\u001b[0m\n\u001b[0;32m----> 7\u001b[0;31m     \u001b[0malgo1_bid\u001b[0m \u001b[0;34m=\u001b[0m \u001b[0mbid\u001b[0m\u001b[0;34m[\u001b[0m\u001b[0mEW_player1\u001b[0m\u001b[0;34m.\u001b[0m\u001b[0mchoose_action\u001b[0m\u001b[0;34m(\u001b[0m\u001b[0;34m)\u001b[0m\u001b[0;34m]\u001b[0m\u001b[0;34m\u001b[0m\u001b[0;34m\u001b[0m\u001b[0m\n\u001b[0m\u001b[1;32m      8\u001b[0m     \u001b[0mbids\u001b[0m\u001b[0;34m.\u001b[0m\u001b[0mappend\u001b[0m\u001b[0;34m(\u001b[0m\u001b[0malgo1_bid\u001b[0m\u001b[0;34m)\u001b[0m\u001b[0;34m\u001b[0m\u001b[0;34m\u001b[0m\u001b[0m\n\u001b[1;32m      9\u001b[0m \u001b[0;34m\u001b[0m\u001b[0m\n",
      "\u001b[0;32m<ipython-input-7-24c52dd648d0>\u001b[0m in \u001b[0;36mchoose_action\u001b[0;34m(self)\u001b[0m\n\u001b[1;32m     37\u001b[0m         \u001b[0mtotal_payoff\u001b[0m \u001b[0;34m=\u001b[0m \u001b[0;36m0\u001b[0m\u001b[0;34m\u001b[0m\u001b[0;34m\u001b[0m\u001b[0m\n\u001b[1;32m     38\u001b[0m         \u001b[0;32mif\u001b[0m \u001b[0malgo\u001b[0m \u001b[0;34m==\u001b[0m\u001b[0;34m\"EW\"\u001b[0m\u001b[0;34m:\u001b[0m\u001b[0;34m\u001b[0m\u001b[0;34m\u001b[0m\u001b[0m\n\u001b[0;32m---> 39\u001b[0;31m             \u001b[0mcur_action_idx\u001b[0m\u001b[0;34m,\u001b[0m\u001b[0mactions\u001b[0m\u001b[0;34m,\u001b[0m\u001b[0mtotal_payoff\u001b[0m \u001b[0;34m=\u001b[0m \u001b[0mexponential_weight_full_info\u001b[0m\u001b[0;34m(\u001b[0m\u001b[0mnp\u001b[0m\u001b[0;34m.\u001b[0m\u001b[0masarray\u001b[0m\u001b[0;34m(\u001b[0m\u001b[0mself\u001b[0m\u001b[0;34m.\u001b[0m\u001b[0mpayoffs\u001b[0m\u001b[0;34m)\u001b[0m\u001b[0;34m,\u001b[0m \u001b[0mself\u001b[0m\u001b[0;34m.\u001b[0m\u001b[0mepsilon\u001b[0m\u001b[0;34m,\u001b[0m \u001b[0mself\u001b[0m\u001b[0;34m.\u001b[0m\u001b[0mvalue\u001b[0m\u001b[0;34m)\u001b[0m\u001b[0;34m\u001b[0m\u001b[0;34m\u001b[0m\u001b[0m\n\u001b[0m\u001b[1;32m     40\u001b[0m         \u001b[0;32mif\u001b[0m \u001b[0malgo\u001b[0m \u001b[0;34m==\u001b[0m\u001b[0;34m\"FTPL\"\u001b[0m\u001b[0;34m:\u001b[0m\u001b[0;34m\u001b[0m\u001b[0;34m\u001b[0m\u001b[0m\n\u001b[1;32m     41\u001b[0m             \u001b[0mcur_action_idx\u001b[0m\u001b[0;34m,\u001b[0m \u001b[0mactions\u001b[0m\u001b[0;34m,\u001b[0m\u001b[0mtotal_payoff\u001b[0m\u001b[0;34m=\u001b[0m \u001b[0mfollow_the_perturbed_leader_full_info\u001b[0m\u001b[0;34m(\u001b[0m\u001b[0mnp\u001b[0m\u001b[0;34m.\u001b[0m\u001b[0masarray\u001b[0m\u001b[0;34m(\u001b[0m\u001b[0mself\u001b[0m\u001b[0;34m.\u001b[0m\u001b[0mpayoffs\u001b[0m\u001b[0;34m)\u001b[0m\u001b[0;34m,\u001b[0m \u001b[0mself\u001b[0m\u001b[0;34m.\u001b[0m\u001b[0mepsilon\u001b[0m\u001b[0;34m,\u001b[0m \u001b[0mself\u001b[0m\u001b[0;34m.\u001b[0m\u001b[0mvalue\u001b[0m\u001b[0;34m)\u001b[0m\u001b[0;34m\u001b[0m\u001b[0;34m\u001b[0m\u001b[0m\n",
      "\u001b[0;32m~/Downloads/396-proj3-master/project3.py\u001b[0m in \u001b[0;36mexponential_weight_full_info\u001b[0;34m(payoffs, epsilon, h)\u001b[0m\n\u001b[1;32m     35\u001b[0m         \u001b[0maction\u001b[0m\u001b[0;34m.\u001b[0m\u001b[0mappend\u001b[0m\u001b[0;34m(\u001b[0m\u001b[0mselect_action\u001b[0m\u001b[0;34m)\u001b[0m\u001b[0;34m\u001b[0m\u001b[0;34m\u001b[0m\u001b[0m\n\u001b[1;32m     36\u001b[0m         \u001b[0msum\u001b[0m \u001b[0;34m+=\u001b[0m \u001b[0mpayoffs\u001b[0m\u001b[0;34m[\u001b[0m\u001b[0mselect_action\u001b[0m\u001b[0;34m]\u001b[0m\u001b[0;34m[\u001b[0m\u001b[0mj\u001b[0m\u001b[0;34m]\u001b[0m\u001b[0;34m\u001b[0m\u001b[0;34m\u001b[0m\u001b[0m\n\u001b[0;32m---> 37\u001b[0;31m     \u001b[0;32mreturn\u001b[0m \u001b[0mselect_action\u001b[0m\u001b[0;34m,\u001b[0m \u001b[0maction\u001b[0m\u001b[0;34m,\u001b[0m \u001b[0msum\u001b[0m\u001b[0;34m\u001b[0m\u001b[0;34m\u001b[0m\u001b[0m\n\u001b[0m\u001b[1;32m     38\u001b[0m \u001b[0;34m\u001b[0m\u001b[0m\n\u001b[1;32m     39\u001b[0m \u001b[0;34m\u001b[0m\u001b[0m\n",
      "\u001b[0;31mUnboundLocalError\u001b[0m: local variable 'select_action' referenced before assignment"
     ]
    }
   ],
   "source": [
    "n = 20\n",
    "bid = bid_space\n",
    "for i in range(0,n):\n",
    "    \n",
    "    bids = []\n",
    "    \n",
    "    algo1_bid = bid[EW_player1.choose_action()]\n",
    "    bids.append(algo1_bid)\n",
    "    \n",
    "    algo2_bid = bid[EW_player2.choose_action()]\n",
    "    bids.append(algo2_bid)\n",
    "    \n",
    "    algo3_bid = bid[EW_player3.choose_action()]\n",
    "    bids.append(algo3_bid)\n",
    "    \n",
    "    algo4_bid = bid[EW_player4.choose_action()]\n",
    "    bids.append(algo4_bid)\n",
    "    \n",
    "    algo5_bid = bid[EW_player5.choose_action()]\n",
    "    bids.append(algo5_bid)\n",
    "    \n",
    "    algo6_bid = bid[FTPL_player1.choose_action()]\n",
    "    bids.append(algo6_bid)\n",
    "    \n",
    "    algo7_bid = bid[FTPL_player2.choose_action()]\n",
    "    bids.append(algo7_bid)\n",
    "    \n",
    "    algo8_bid = bid[FTPL_player3.choose_action()]\n",
    "    bids.append(algo8_bid)\n",
    "    \n",
    "    algo9_bid = bid[FTPL_player4.choose_action()]\n",
    "    bids.append(algo8_bid)\n",
    "    \n",
    "    algo10_bid = bid[FTPL_player5.choose_action()]\n",
    "    bids.append(algo8_bid)\n",
    "    \n",
    "    print(bids)\n",
    "            \n",
    "        \n",
    "    "
   ]
  },
  {
   "cell_type": "code",
   "execution_count": 10,
   "metadata": {},
   "outputs": [
    {
     "ename": "UnboundLocalError",
     "evalue": "local variable 'select_action' referenced before assignment",
     "output_type": "error",
     "traceback": [
      "\u001b[0;31m---------------------------------------------------------------------------\u001b[0m",
      "\u001b[0;31mUnboundLocalError\u001b[0m                         Traceback (most recent call last)",
      "\u001b[0;32m<ipython-input-10-ae0b768904d3>\u001b[0m in \u001b[0;36m<module>\u001b[0;34m\u001b[0m\n\u001b[0;32m----> 1\u001b[0;31m \u001b[0mFTPL_player5\u001b[0m\u001b[0;34m.\u001b[0m\u001b[0mchoose_action\u001b[0m\u001b[0;34m(\u001b[0m\u001b[0;34m)\u001b[0m\u001b[0;34m\u001b[0m\u001b[0;34m\u001b[0m\u001b[0m\n\u001b[0m",
      "\u001b[0;32m<ipython-input-7-24c52dd648d0>\u001b[0m in \u001b[0;36mchoose_action\u001b[0;34m(self)\u001b[0m\n\u001b[1;32m     37\u001b[0m         \u001b[0mtotal_payoff\u001b[0m \u001b[0;34m=\u001b[0m \u001b[0;36m0\u001b[0m\u001b[0;34m\u001b[0m\u001b[0;34m\u001b[0m\u001b[0m\n\u001b[1;32m     38\u001b[0m         \u001b[0;32mif\u001b[0m \u001b[0malgo\u001b[0m \u001b[0;34m==\u001b[0m\u001b[0;34m\"EW\"\u001b[0m\u001b[0;34m:\u001b[0m\u001b[0;34m\u001b[0m\u001b[0;34m\u001b[0m\u001b[0m\n\u001b[0;32m---> 39\u001b[0;31m             \u001b[0mcur_action_idx\u001b[0m\u001b[0;34m,\u001b[0m\u001b[0mactions\u001b[0m\u001b[0;34m,\u001b[0m\u001b[0mtotal_payoff\u001b[0m \u001b[0;34m=\u001b[0m \u001b[0mexponential_weight_full_info\u001b[0m\u001b[0;34m(\u001b[0m\u001b[0mnp\u001b[0m\u001b[0;34m.\u001b[0m\u001b[0masarray\u001b[0m\u001b[0;34m(\u001b[0m\u001b[0mself\u001b[0m\u001b[0;34m.\u001b[0m\u001b[0mpayoffs\u001b[0m\u001b[0;34m)\u001b[0m\u001b[0;34m,\u001b[0m \u001b[0mself\u001b[0m\u001b[0;34m.\u001b[0m\u001b[0mepsilon\u001b[0m\u001b[0;34m,\u001b[0m \u001b[0mself\u001b[0m\u001b[0;34m.\u001b[0m\u001b[0mvalue\u001b[0m\u001b[0;34m)\u001b[0m\u001b[0;34m\u001b[0m\u001b[0;34m\u001b[0m\u001b[0m\n\u001b[0m\u001b[1;32m     40\u001b[0m         \u001b[0;32mif\u001b[0m \u001b[0malgo\u001b[0m \u001b[0;34m==\u001b[0m\u001b[0;34m\"FTPL\"\u001b[0m\u001b[0;34m:\u001b[0m\u001b[0;34m\u001b[0m\u001b[0;34m\u001b[0m\u001b[0m\n\u001b[1;32m     41\u001b[0m             \u001b[0mcur_action_idx\u001b[0m\u001b[0;34m,\u001b[0m \u001b[0mactions\u001b[0m\u001b[0;34m,\u001b[0m\u001b[0mtotal_payoff\u001b[0m\u001b[0;34m=\u001b[0m \u001b[0mfollow_the_perturbed_leader_full_info\u001b[0m\u001b[0;34m(\u001b[0m\u001b[0mnp\u001b[0m\u001b[0;34m.\u001b[0m\u001b[0masarray\u001b[0m\u001b[0;34m(\u001b[0m\u001b[0mself\u001b[0m\u001b[0;34m.\u001b[0m\u001b[0mpayoffs\u001b[0m\u001b[0;34m)\u001b[0m\u001b[0;34m,\u001b[0m \u001b[0mself\u001b[0m\u001b[0;34m.\u001b[0m\u001b[0mepsilon\u001b[0m\u001b[0;34m,\u001b[0m \u001b[0mself\u001b[0m\u001b[0;34m.\u001b[0m\u001b[0mvalue\u001b[0m\u001b[0;34m)\u001b[0m\u001b[0;34m\u001b[0m\u001b[0;34m\u001b[0m\u001b[0m\n",
      "\u001b[0;32m~/Downloads/396-proj3-master/project3.py\u001b[0m in \u001b[0;36mexponential_weight_full_info\u001b[0;34m(payoffs, epsilon, h)\u001b[0m\n\u001b[1;32m     35\u001b[0m         \u001b[0maction\u001b[0m\u001b[0;34m.\u001b[0m\u001b[0mappend\u001b[0m\u001b[0;34m(\u001b[0m\u001b[0mselect_action\u001b[0m\u001b[0;34m)\u001b[0m\u001b[0;34m\u001b[0m\u001b[0;34m\u001b[0m\u001b[0m\n\u001b[1;32m     36\u001b[0m         \u001b[0msum\u001b[0m \u001b[0;34m+=\u001b[0m \u001b[0mpayoffs\u001b[0m\u001b[0;34m[\u001b[0m\u001b[0mselect_action\u001b[0m\u001b[0;34m]\u001b[0m\u001b[0;34m[\u001b[0m\u001b[0mj\u001b[0m\u001b[0;34m]\u001b[0m\u001b[0;34m\u001b[0m\u001b[0;34m\u001b[0m\u001b[0m\n\u001b[0;32m---> 37\u001b[0;31m     \u001b[0;32mreturn\u001b[0m \u001b[0mselect_action\u001b[0m\u001b[0;34m,\u001b[0m \u001b[0maction\u001b[0m\u001b[0;34m,\u001b[0m \u001b[0msum\u001b[0m\u001b[0;34m\u001b[0m\u001b[0;34m\u001b[0m\u001b[0m\n\u001b[0m\u001b[1;32m     38\u001b[0m \u001b[0;34m\u001b[0m\u001b[0m\n\u001b[1;32m     39\u001b[0m \u001b[0;34m\u001b[0m\u001b[0m\n",
      "\u001b[0;31mUnboundLocalError\u001b[0m: local variable 'select_action' referenced before assignment"
     ]
    }
   ],
   "source": [
    "FTPL_player5.choose_action()"
   ]
  },
  {
   "cell_type": "code",
   "execution_count": null,
   "metadata": {},
   "outputs": [],
   "source": []
  }
 ],
 "metadata": {
  "kernelspec": {
   "display_name": "Python 3.7.4 64-bit ('base': conda)",
   "language": "python",
   "name": "python37464bitbaseconda2a5e644381ba4a2cb92ecaa1434a1cdf"
  },
  "language_info": {
   "codemirror_mode": {
    "name": "ipython",
    "version": 3
   },
   "file_extension": ".py",
   "mimetype": "text/x-python",
   "name": "python",
   "nbconvert_exporter": "python",
   "pygments_lexer": "ipython3",
   "version": "3.7.4"
  }
 },
 "nbformat": 4,
 "nbformat_minor": 2
}
